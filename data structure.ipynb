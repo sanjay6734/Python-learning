{
  "nbformat": 4,
  "nbformat_minor": 0,
  "metadata": {
    "colab": {
      "provenance": [],
      "include_colab_link": true
    },
    "kernelspec": {
      "name": "python3",
      "display_name": "Python 3"
    },
    "language_info": {
      "name": "python"
    }
  },
  "cells": [
    {
      "cell_type": "markdown",
      "metadata": {
        "id": "view-in-github",
        "colab_type": "text"
      },
      "source": [
        "<a href=\"https://colab.research.google.com/github/sanjay6734/Python-learning/blob/main/data%20structure.ipynb\" target=\"_parent\"><img src=\"https://colab.research.google.com/assets/colab-badge.svg\" alt=\"Open In Colab\"/></a>"
      ]
    },
    {
      "cell_type": "markdown",
      "source": [
        "## 1.Difference between the list and tuple?"
      ],
      "metadata": {
        "id": "HN6tCq60j2mQ"
      }
    },
    {
      "cell_type": "markdown",
      "source": [
        "List\n",
        "1. Lists are mutable.\n",
        "2. Lists are represented by [ ] brackets.\n",
        "\n",
        "Tuple\n",
        "1. Tuples are immutable.\n",
        "2. Tuples are represented by ( ) brackets."
      ],
      "metadata": {
        "id": "QgUtwdl1pMb0"
      }
    },
    {
      "cell_type": "markdown",
      "source": [
        "## 2.How list is different from an array"
      ],
      "metadata": {
        "id": "uWhJG7hzk6Ov"
      }
    },
    {
      "cell_type": "markdown",
      "source": [
        "1. List can consist of elements belonging to different datatypes.\n",
        "2. Array Only consists of elements belonging to the same datatype.\n",
        "3. List preferred for a shorter sequence of data items whereas array preferred for a longer sequence of data items.\n"
      ],
      "metadata": {
        "id": "r5pjhbH5rjwL"
      }
    },
    {
      "cell_type": "markdown",
      "source": [
        "## 3. Use the python list append(),copy(), clear, count, extends(), index(), insert(), pop(), reverse(), sort(), min(), max(),and sum()"
      ],
      "metadata": {
        "id": "_0Rn7JQSk6M1"
      }
    },
    {
      "cell_type": "code",
      "source": [
        "#append\n",
        "a=[1,2,3]\n",
        "a.append(4)\n",
        "a.append(5)\n",
        "a.append(\"hello\")\n",
        "print(a)"
      ],
      "metadata": {
        "id": "9j5Ee48TsKjb",
        "outputId": "edd7462f-7f67-44c2-8b11-9a54b8f527be",
        "colab": {
          "base_uri": "https://localhost:8080/"
        }
      },
      "execution_count": 2,
      "outputs": [
        {
          "output_type": "stream",
          "name": "stdout",
          "text": [
            "[1, 2, 3, 4, 5, 'hello']\n"
          ]
        }
      ]
    },
    {
      "cell_type": "code",
      "source": [
        "#copy\n",
        "a=[6,7,8,9]\n",
        "b=a.copy()\n",
        "print(b)"
      ],
      "metadata": {
        "id": "3934Yhyas7wo",
        "outputId": "58904979-5b39-4375-afa6-afe08dd71291",
        "colab": {
          "base_uri": "https://localhost:8080/"
        }
      },
      "execution_count": 3,
      "outputs": [
        {
          "output_type": "stream",
          "name": "stdout",
          "text": [
            "[6, 7, 8, 9]\n"
          ]
        }
      ]
    },
    {
      "cell_type": "code",
      "source": [
        "#clear\n",
        "a=[1,2,3,4]\n",
        "a.clear()\n",
        "print(a)"
      ],
      "metadata": {
        "id": "xkO02s99tqzJ",
        "outputId": "58242e3c-c9ee-4f4d-e064-fd88d23b57fd",
        "colab": {
          "base_uri": "https://localhost:8080/"
        }
      },
      "execution_count": 4,
      "outputs": [
        {
          "output_type": "stream",
          "name": "stdout",
          "text": [
            "[]\n"
          ]
        }
      ]
    },
    {
      "cell_type": "code",
      "source": [
        "#count\n",
        "l=[1,2,3,3,4,5]\n",
        "l.count(3)"
      ],
      "metadata": {
        "id": "sZpvfEgaudFU",
        "outputId": "3b0fc5dc-d975-4169-bb5b-8f55d42c1278",
        "colab": {
          "base_uri": "https://localhost:8080/"
        }
      },
      "execution_count": 14,
      "outputs": [
        {
          "output_type": "execute_result",
          "data": {
            "text/plain": [
              "2"
            ]
          },
          "metadata": {},
          "execution_count": 14
        }
      ]
    },
    {
      "cell_type": "code",
      "source": [
        "#extends\n",
        "a=[1,2,3]\n",
        "b=[4,5,6]\n",
        "a.extend(b)\n",
        "print(a)"
      ],
      "metadata": {
        "id": "bt0cl6cNuz4x",
        "outputId": "1295fbe2-3b6f-497c-b373-6d25215e44be",
        "colab": {
          "base_uri": "https://localhost:8080/"
        }
      },
      "execution_count": 7,
      "outputs": [
        {
          "output_type": "stream",
          "name": "stdout",
          "text": [
            "[1, 2, 3, 4, 5, 6]\n"
          ]
        }
      ]
    },
    {
      "cell_type": "code",
      "source": [
        "#index\n",
        "a=[1,2,3,4,5]\n",
        "a.index(3)"
      ],
      "metadata": {
        "id": "0WC9IMa0vO-K",
        "outputId": "6f51c0c9-b757-4559-e3d6-c4588634f3c4",
        "colab": {
          "base_uri": "https://localhost:8080/"
        }
      },
      "execution_count": 8,
      "outputs": [
        {
          "output_type": "execute_result",
          "data": {
            "text/plain": [
              "2"
            ]
          },
          "metadata": {},
          "execution_count": 8
        }
      ]
    },
    {
      "cell_type": "code",
      "source": [
        "#insert\n",
        "b=[5,6,7,8]\n",
        "b.insert(0,4)\n",
        "print(b)"
      ],
      "metadata": {
        "id": "JrzsGxQrvhLP",
        "outputId": "3b2d9f0e-3a12-46c7-d8b0-6ef7099562ce",
        "colab": {
          "base_uri": "https://localhost:8080/"
        }
      },
      "execution_count": 20,
      "outputs": [
        {
          "output_type": "stream",
          "name": "stdout",
          "text": [
            "[4, 5, 6, 7, 8]\n"
          ]
        }
      ]
    },
    {
      "cell_type": "code",
      "source": [
        "#pop\n",
        "a=[1,2,3]\n",
        "b=l.pop(1)\n",
        "print(\"poped element is: \",b)"
      ],
      "metadata": {
        "id": "PNHuwUG1v_NO",
        "outputId": "a6a17869-0881-454f-ba55-f30caf9807d2",
        "colab": {
          "base_uri": "https://localhost:8080/"
        }
      },
      "execution_count": 22,
      "outputs": [
        {
          "output_type": "stream",
          "name": "stdout",
          "text": [
            "poped element is:  2\n"
          ]
        }
      ]
    },
    {
      "cell_type": "code",
      "source": [
        "#reverse\n",
        "x=[4,3,2,1]\n",
        "x.reverse()\n",
        "print(x)"
      ],
      "metadata": {
        "id": "Jp54QbqJwb1M",
        "outputId": "9c25c230-4538-468f-ffa0-2893c9acaab6",
        "colab": {
          "base_uri": "https://localhost:8080/"
        }
      },
      "execution_count": 23,
      "outputs": [
        {
          "output_type": "stream",
          "name": "stdout",
          "text": [
            "[1, 2, 3, 4]\n"
          ]
        }
      ]
    },
    {
      "cell_type": "code",
      "source": [
        "#sort\n",
        "y=[7,5,9,8,6]\n",
        "y.sort()\n",
        "print(y)"
      ],
      "metadata": {
        "id": "6UG1a4bBw20i",
        "outputId": "cecde16f-5caf-454a-8a57-dd950fde2d5f",
        "colab": {
          "base_uri": "https://localhost:8080/"
        }
      },
      "execution_count": 25,
      "outputs": [
        {
          "output_type": "stream",
          "name": "stdout",
          "text": [
            "[5, 6, 7, 8, 9]\n"
          ]
        }
      ]
    },
    {
      "cell_type": "code",
      "source": [
        "#min and max\n",
        "a=[1,7,3,4,9]\n",
        "b=min(a)\n",
        "c=max(a)\n",
        "print(\"min value is:\",b)\n",
        "print(\"max value is:\",c)"
      ],
      "metadata": {
        "id": "Qb1nIjWbxAuk",
        "outputId": "0f4d7ea7-7d20-4349-c852-6abf0203a275",
        "colab": {
          "base_uri": "https://localhost:8080/"
        }
      },
      "execution_count": 28,
      "outputs": [
        {
          "output_type": "stream",
          "name": "stdout",
          "text": [
            "min value is: 1\n",
            "max value is: 9\n"
          ]
        }
      ]
    },
    {
      "cell_type": "code",
      "source": [
        "#sum\n",
        "l=[1,2,3,4,5,6,7,8,9]\n",
        "z=sum(l)\n",
        "print(z)"
      ],
      "metadata": {
        "id": "L7MuAMTpxfzW",
        "outputId": "f49684de-e89f-4f74-d011-02334a53f4ed",
        "colab": {
          "base_uri": "https://localhost:8080/"
        }
      },
      "execution_count": 30,
      "outputs": [
        {
          "output_type": "stream",
          "name": "stdout",
          "text": [
            "45\n"
          ]
        }
      ]
    },
    {
      "cell_type": "markdown",
      "source": [
        "## 4, How would you divide the list into two parts?"
      ],
      "metadata": {
        "id": "W9xfjUWak6J_"
      }
    },
    {
      "cell_type": "code",
      "source": [
        "a=[5,6,7,8]\n",
        "b=len(a)//2\n",
        "c=a[:b]\n",
        "d=a[b:]\n",
        "print(c)\n",
        "print(d)"
      ],
      "metadata": {
        "id": "_EaNwRrex5Jr",
        "outputId": "64fd9a08-07f2-4c26-ff3e-62200422ce56",
        "colab": {
          "base_uri": "https://localhost:8080/"
        }
      },
      "execution_count": 35,
      "outputs": [
        {
          "output_type": "stream",
          "name": "stdout",
          "text": [
            "[5, 6]\n",
            "[7, 8]\n"
          ]
        }
      ]
    },
    {
      "cell_type": "markdown",
      "source": [
        "## 5. how to filter the multiple of 3 from a given list and them remove the odd number from the new filtered list.\n",
        "Eg A = [1,2,3,4,5,6,7,8,9,21,23,24]\n",
        "Filter_lsit = [3,6,9,21,24]\n",
        "output_list = [6,24]"
      ],
      "metadata": {
        "id": "Qb1mVGfnk6G5"
      }
    },
    {
      "cell_type": "code",
      "source": [
        "a=[1,2,3,4,5,6,7,8,9,10,11,12,21,22,23,24]\n",
        "b=[i for i in l if i%3==0]\n",
        "c=[i for i in c if i%2==0]\n",
        "print(b)\n",
        "print(c)"
      ],
      "metadata": {
        "id": "0KjVOrK-ybAc",
        "outputId": "78d5b475-e111-49f7-c049-0cb06ed0e480",
        "colab": {
          "base_uri": "https://localhost:8080/"
        }
      },
      "execution_count": 38,
      "outputs": [
        {
          "output_type": "stream",
          "name": "stdout",
          "text": [
            "[3, 6, 9, 12, 21, 24]\n",
            "[6, 12, 24]\n"
          ]
        }
      ]
    },
    {
      "cell_type": "markdown",
      "source": [
        "## 6. How you can access keys and values simultaneously and update its value"
      ],
      "metadata": {
        "id": "auhYyjixk6FD"
      }
    },
    {
      "cell_type": "code",
      "source": [
        "x={'c':2,'d':3}\n",
        "for i,j in x.items():\n",
        "  print(i,j)\n",
        "c=str(input(\"Enter key:\"))\n",
        "d=int(input(\"Enter value:\"))\n",
        "if c in x:\n",
        "  x[c]=d\n",
        "  print(\"key founded\")\n",
        "else:\n",
        "  print(\"key not found\")\n",
        "print(x)"
      ],
      "metadata": {
        "id": "ZGjQ_3Zh0y3p",
        "outputId": "022da99f-9506-44c1-b5a6-8f9a41a0028b",
        "colab": {
          "base_uri": "https://localhost:8080/"
        }
      },
      "execution_count": 42,
      "outputs": [
        {
          "output_type": "stream",
          "name": "stdout",
          "text": [
            "c 2\n",
            "d 3\n",
            "Enter key:c\n",
            "Enter value:2\n",
            "key founded\n",
            "{'c': 2, 'd': 3}\n"
          ]
        }
      ]
    },
    {
      "cell_type": "markdown",
      "source": [
        "## 7. Write python program to join, merge, concatente the two dictionaries..\n"
      ],
      "metadata": {
        "id": "vV00n0awk5_G"
      }
    },
    {
      "cell_type": "code",
      "source": [
        "#join\n",
        "dict1={'a':3,'b':4}\n",
        "dict2={'c':4,'d':5}\n",
        "dict1.update(dict2)\n",
        "print(dict1)"
      ],
      "metadata": {
        "id": "vWjJGYf62P9d",
        "outputId": "42356d6e-b8a0-4570-9cff-66e3bc213df6",
        "colab": {
          "base_uri": "https://localhost:8080/"
        }
      },
      "execution_count": 43,
      "outputs": [
        {
          "output_type": "stream",
          "name": "stdout",
          "text": [
            "{'a': 3, 'b': 4, 'c': 4, 'd': 5}\n"
          ]
        }
      ]
    },
    {
      "cell_type": "code",
      "source": [
        "#merge\n",
        "d1={'a':1,'b':2}\n",
        "d2={'b':2,'d':3}\n",
        "d=dict(d1,**d2)\n",
        "print(d)"
      ],
      "metadata": {
        "id": "d43GOzGt3n-_",
        "outputId": "b784ebe0-3fb9-477b-8f01-dbac3a27a2e9",
        "colab": {
          "base_uri": "https://localhost:8080/"
        }
      },
      "execution_count": 47,
      "outputs": [
        {
          "output_type": "stream",
          "name": "stdout",
          "text": [
            "{'a': 1, 'b': 2, 'd': 3}\n"
          ]
        }
      ]
    },
    {
      "cell_type": "code",
      "source": [
        "#concatente\n",
        "d1={'a':1,'b':2}\n",
        "d2={'b':3,'d':3}\n",
        "d={**d1,**d2}\n",
        "print(d)"
      ],
      "metadata": {
        "id": "gGb14_kB38G6",
        "outputId": "e5f5bb24-c7a3-4ffa-88a5-5717c77bda70",
        "colab": {
          "base_uri": "https://localhost:8080/"
        }
      },
      "execution_count": 48,
      "outputs": [
        {
          "output_type": "stream",
          "name": "stdout",
          "text": [
            "{'a': 1, 'b': 3, 'd': 3}\n"
          ]
        }
      ]
    },
    {
      "cell_type": "markdown",
      "source": [
        "## 8. How would you check a specific keys from the dictionary??\n"
      ],
      "metadata": {
        "id": "Z_7dpypWnQ-z"
      }
    },
    {
      "cell_type": "code",
      "source": [
        "d={'x':3,'y':4}\n",
        "c=str(input(\"Enter value to check:\"))\n",
        "if c in d:\n",
        "  print(\"value is there\")\n",
        "else:\n",
        "  print(\"value not there\")"
      ],
      "metadata": {
        "id": "tORMHvrx6Ch0",
        "outputId": "7abbf550-5e8c-4b6f-fd73-0c074b0875bd",
        "colab": {
          "base_uri": "https://localhost:8080/"
        }
      },
      "execution_count": 51,
      "outputs": [
        {
          "output_type": "stream",
          "name": "stdout",
          "text": [
            "Enter value to check:x\n",
            "value is there\n"
          ]
        }
      ]
    },
    {
      "cell_type": "markdown",
      "source": [
        "## 9. write a python program to find the unique vowel present in the sentence"
      ],
      "metadata": {
        "id": "EjxeB4ntnirH"
      }
    },
    {
      "cell_type": "code",
      "source": [
        "a=str(input(\"Enter a sentence:\"))\n",
        "b=set()\n",
        "vowels = \"aeiouAEIOU\"\n",
        "for i in a:\n",
        "    if i in vowels:\n",
        "        b.add(i)\n",
        "if b:\n",
        "    print(\"vowels in the sentence:\",list(b))\n",
        "else:\n",
        "    print(\"No vowels found in the sentence.\")"
      ],
      "metadata": {
        "id": "SvMLdeE69foe",
        "outputId": "bcf41c1a-dba0-471e-881b-6cce93da8d09",
        "colab": {
          "base_uri": "https://localhost:8080/"
        }
      },
      "execution_count": 55,
      "outputs": [
        {
          "output_type": "stream",
          "name": "stdout",
          "text": [
            "Enter a sentence:hello\n",
            "vowels in the sentence: ['e', 'o']\n"
          ]
        }
      ]
    },
    {
      "cell_type": "markdown",
      "source": [
        "## 10. We know that tuple is immutable, do any thing and add element to the tuples."
      ],
      "metadata": {
        "id": "B1VBImcfns6V"
      }
    },
    {
      "cell_type": "code",
      "source": [
        "x=(3,4)\n",
        "y=(8,9)\n",
        "z=x+y\n",
        "print(z)"
      ],
      "metadata": {
        "id": "3FrYmxFR65RE",
        "outputId": "c31bb04a-d37a-44e8-ceb2-ff9a736dd182",
        "colab": {
          "base_uri": "https://localhost:8080/"
        }
      },
      "execution_count": 57,
      "outputs": [
        {
          "output_type": "stream",
          "name": "stdout",
          "text": [
            "(3, 4, 8, 9)\n"
          ]
        }
      ]
    },
    {
      "cell_type": "markdown",
      "source": [
        "## 11. How would you sum the list of tuple and sum of tuple of list\n",
        "list  = [(2,3),(4,5),(6,4)]\n",
        "output= [5,9,10]\n",
        "\n",
        "tuple  =([2,3],[4,5],[6,4])\n",
        "output  =  (5,9,10)"
      ],
      "metadata": {
        "id": "Yd7tDQHuoGFm"
      }
    },
    {
      "cell_type": "code",
      "source": [
        "# List of tuples\n",
        "t=([2, 3], [4, 5], [6, 4])\n",
        "a = tuple(sum(i) for i in t)\n",
        "print(a)\n",
        "\n",
        "# Tuple of lists\n",
        "t_l = [(2, 3), (4, 5), (6, 4)]\n",
        "c = [sum(j) for j in t_l]\n",
        "print(c)"
      ],
      "metadata": {
        "id": "qbsZBW8M7Kdx",
        "outputId": "18b5870e-4673-4e86-fcaf-bcaed666ae21",
        "colab": {
          "base_uri": "https://localhost:8080/"
        }
      },
      "execution_count": 59,
      "outputs": [
        {
          "output_type": "stream",
          "name": "stdout",
          "text": [
            "(5, 9, 10)\n",
            "[5, 9, 10]\n"
          ]
        }
      ]
    },
    {
      "cell_type": "markdown",
      "source": [
        "## 12. FIND THE FREQUENCY OF THE KEYS IN THE GIVEN DICTIONARY"
      ],
      "metadata": {
        "id": "YiXg_vDpoq7X"
      }
    },
    {
      "cell_type": "code",
      "source": [
        "a={'x':1,'y':2,'z':2}\n",
        "b={}\n",
        "for i in a.values():\n",
        "    if i in b:\n",
        "        b[i]+=1\n",
        "    else:\n",
        "         b[i]=1\n",
        "for j,k in b.items():\n",
        "    print(f\"The frequency of value {j} is: {k}\")"
      ],
      "metadata": {
        "id": "41_10Y2v7qLa",
        "outputId": "966864f3-0720-4434-d7c6-f7799ea012e7",
        "colab": {
          "base_uri": "https://localhost:8080/"
        }
      },
      "execution_count": 62,
      "outputs": [
        {
          "output_type": "stream",
          "name": "stdout",
          "text": [
            "The frequency of value 1 is: 1\n",
            "The frequency of value 2 is: 2\n"
          ]
        }
      ]
    }
  ]
}