{
  "nbformat": 4,
  "nbformat_minor": 0,
  "metadata": {
    "colab": {
      "provenance": [],
      "authorship_tag": "ABX9TyO7whhaRyrci9IeBsFjaAeJ",
      "include_colab_link": true
    },
    "kernelspec": {
      "name": "python3",
      "display_name": "Python 3"
    },
    "language_info": {
      "name": "python"
    }
  },
  "cells": [
    {
      "cell_type": "markdown",
      "metadata": {
        "id": "view-in-github",
        "colab_type": "text"
      },
      "source": [
        "<a href=\"https://colab.research.google.com/github/sanjay6734/Python-learning/blob/main/Day1_assessment.ipynb\" target=\"_parent\"><img src=\"https://colab.research.google.com/assets/colab-badge.svg\" alt=\"Open In Colab\"/></a>"
      ]
    },
    {
      "cell_type": "markdown",
      "source": [
        "How would you confirm that two strings have the same identity?"
      ],
      "metadata": {
        "id": "u9PROxLsukOB"
      }
    },
    {
      "cell_type": "code",
      "execution_count": 8,
      "metadata": {
        "colab": {
          "base_uri": "https://localhost:8080/"
        },
        "id": "XPnykv1IujCX",
        "outputId": "f273ec9f-ea81-47f1-8415-9de2bf736917"
      },
      "outputs": [
        {
          "output_type": "stream",
          "name": "stdout",
          "text": [
            "Above both strings do not have the same identity\n"
          ]
        }
      ],
      "source": [
        "a=\"hii\"\n",
        "b=\"hello\"\n",
        "if a is b:\n",
        "  print(\"Above both strings have the same identity\")\n",
        "else:\n",
        "  print(\"Above both strings do not have the same identity\")"
      ]
    },
    {
      "cell_type": "markdown",
      "source": [
        "How to find the length and index of the string?"
      ],
      "metadata": {
        "id": "tzThYpWbvaeC"
      }
    },
    {
      "cell_type": "code",
      "source": [
        "a=\"hii hello good morning\"\n",
        "# To find length of the string\n",
        "print(\"The length of the string is:\",len(a))\n",
        "# To find index of the string\n",
        "b=a.index(\"hello\")\n",
        "print(\"The index of string is:\",b)"
      ],
      "metadata": {
        "colab": {
          "base_uri": "https://localhost:8080/"
        },
        "id": "kcu_haEevf5m",
        "outputId": "6e1c51c6-c825-43c9-be19-4d4bd3c81672"
      },
      "execution_count": 40,
      "outputs": [
        {
          "output_type": "stream",
          "name": "stdout",
          "text": [
            "The length of the string is: 22\n",
            "The index of string is: 4\n"
          ]
        }
      ]
    },
    {
      "cell_type": "markdown",
      "source": [
        "How to check a string contain a specific substring"
      ],
      "metadata": {
        "id": "RfpRvDv3xKEE"
      }
    },
    {
      "cell_type": "code",
      "source": [
        "st=\"hey google\"\n",
        "sub_str=\"hey\"\n",
        "if sub_str in st:\n",
        "  print(\"string contain substring\")\n",
        "else:\n",
        "  print(\"string does not contain substring\")"
      ],
      "metadata": {
        "colab": {
          "base_uri": "https://localhost:8080/"
        },
        "id": "y2_3T0OdxMvm",
        "outputId": "bbc5f823-4afa-41c9-c703-c453319b9dc6"
      },
      "execution_count": 22,
      "outputs": [
        {
          "output_type": "stream",
          "name": "stdout",
          "text": [
            "string contain substring\n"
          ]
        }
      ]
    },
    {
      "cell_type": "markdown",
      "source": [
        "how to a take a string from backward with two step difference?"
      ],
      "metadata": {
        "id": "og22WV3A0LBL"
      }
    },
    {
      "cell_type": "code",
      "source": [
        "x=\"hey siri\"\n",
        "y= x[::-2]\n",
        "print(\"Entered string is:\",x)\n",
        "print(\"string with backward two step difference is:\",y)"
      ],
      "metadata": {
        "colab": {
          "base_uri": "https://localhost:8080/"
        },
        "id": "jOWhg_mM0O9m",
        "outputId": "fc9947c7-e972-4f0c-bc98-9b220ff89482"
      },
      "execution_count": 42,
      "outputs": [
        {
          "output_type": "stream",
          "name": "stdout",
          "text": [
            "Entered string is: hey siri\n",
            "string with backward two step difference is: ii e\n"
          ]
        }
      ]
    },
    {
      "cell_type": "markdown",
      "source": [
        "how to find the index of the last element"
      ],
      "metadata": {
        "id": "Ink_8JdQ1Dta"
      }
    },
    {
      "cell_type": "code",
      "source": [
        "a=\"hey google\"\n",
        "b=len(a)-1\n",
        "print(\"Index of the last element in the string is:\",b)"
      ],
      "metadata": {
        "colab": {
          "base_uri": "https://localhost:8080/"
        },
        "id": "SGxcc4Dr1JjE",
        "outputId": "59842012-4c32-4e21-8e7d-5afc8fde3f95"
      },
      "execution_count": 27,
      "outputs": [
        {
          "output_type": "stream",
          "name": "stdout",
          "text": [
            "Index of the last element in the string is: 9\n"
          ]
        }
      ]
    },
    {
      "cell_type": "markdown",
      "source": [
        "Write 2 ways to concatinate the string"
      ],
      "metadata": {
        "id": "V6jIxO0v1qA2"
      }
    },
    {
      "cell_type": "code",
      "source": [
        "## String Concatenation using (+) operator\n",
        "a=\"hii\"\n",
        "b=\" hello\"\n",
        "c=a+b\n",
        "print(\"The string is :\",c)\n",
        "# String Concatenation using f-string\n",
        "s1 = \"Hello\"\n",
        "s2 = \"World\"\n",
        "s3 = f\"{s1} {s2}\"\n",
        "print(\"String Concatenation using f-string is :\", s3)"
      ],
      "metadata": {
        "colab": {
          "base_uri": "https://localhost:8080/"
        },
        "id": "vXv0PgkU2rsT",
        "outputId": "da4d2934-7949-4081-e445-bba5013d19b6"
      },
      "execution_count": 43,
      "outputs": [
        {
          "output_type": "stream",
          "name": "stdout",
          "text": [
            "The string is : hii hello\n",
            "String Concatenation using f-string is : Hello World\n"
          ]
        }
      ]
    }
  ]
}